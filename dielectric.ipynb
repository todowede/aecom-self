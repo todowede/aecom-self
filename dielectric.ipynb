{
 "metadata": {
  "language_info": {
   "codemirror_mode": {
    "name": "ipython",
    "version": 3
   },
   "file_extension": ".py",
   "mimetype": "text/x-python",
   "name": "python",
   "nbconvert_exporter": "python",
   "pygments_lexer": "ipython3",
   "version": "3.8.5"
  },
  "orig_nbformat": 2,
  "kernelspec": {
   "name": "python385jvsc74a57bd031f2aee4e71d21fbe5cf8b01ff0e069b9275f58929596ceb00d14d90e3e16cd6",
   "display_name": "Python 3.8.5 64-bit"
  },
  "metadata": {
   "interpreter": {
    "hash": "31f2aee4e71d21fbe5cf8b01ff0e069b9275f58929596ceb00d14d90e3e16cd6"
   }
  }
 },
 "nbformat": 4,
 "nbformat_minor": 2,
 "cells": [
  {
   "source": [
    "## Dielectric Permittivity"
   ],
   "cell_type": "markdown",
   "metadata": {}
  },
  {
   "source": [
    "Dielectric permittivity is a diagnostic physical property which characterizes the degree of electrical polarization a material experiences under the influence of an external electric field. Dielectrc permittivity is the primary diagnostic physical property in __ground penetrating radar (GPR)__.\n",
    "\n",
    "### Constitutive Relationship\n",
    "Dielectrc permittivity $\\varepsilon$ is defined as the ratio between the electric field $(\\vec E)$ within a material and the corresponsing electric displacement $(\\vec D)$.\n",
    "\n",
    "$$\n",
    "\\vec D = \\varepsilon \\vec E\n",
    "$$\n",
    "\n",
    "When exposed to an electric field, bounded electrical charges of opposing sign will try to separate from one another. For example, the electron clouds of atoms will shift in position relative to their nuclei. \n",
    "\n",
    "The extent of the separation of the electrical charges within a material is represented by the electric polarization $(\\vec P)$. The electric field, electric displacement and electric polarization are related by the following expression.\n",
    "$$\n",
    "\\vec D = \\varepsilon_0 \\vec E + \\vec P\n",
    "$$\n",
    "where the permittivity of free space $(\\varepsilon_0 = 8.8541878176 \\times 10^{-12} F/m)$ defines the relationship between $ \\vec D$ and $\\vec E$ if the material is non-polarizable.\n",
    "\n",
    "Therefore the dielectric permittivity and the electric displacement define how strongly a material becomes electrically polarized under the influence of an electric field. "
   ],
   "cell_type": "markdown",
   "metadata": {}
  },
  {
   "source": [
    "### Relative Permittivity\n",
    "The dielectric properties of materials are generally expressed using the Relative Permittivity $(\\varepsilon_r)$. The relative Permittivity defines the dielectric properties of a material relative to that of free-space:\n",
    "$$\n",
    "\\varepsilon_r = \\frac{\\varepsilon}{\\varepsilon_0}\n",
    "$$\n",
    "The relative Permittivity is both positive and $\\geq$ 1. The typical values for rocks and other important materials can be found ????\n",
    "\n",
    "### Dielectric Susceptibility\n",
    "The electrical polarization within a material can be defined in terms of the electrical field as follows:\n",
    "$$\n",
    "\\vec P = (\\varepsilon - \\varepsilon_0 ) \\vec E = \\chi_e \\varepsilon_0 \\vec E\n",
    "$$\n",
    "where $\\chi_e$ is known as the electric Susceptibility. Note that the polarization is always parallel to the electric field.\n",
    "\n",
    "### Importance to Geophysics\n",
    "Dielectric Permittivity is the primary disagnostic physical property in __GPR__. Dielectric Permittivity impacts the attenuation, wavelength and velocity of radiowave signals as they propagate through the Earth. \n",
    "\n",
    "It also determines the reflection and refraction of radiowave signals are interfaces. \n",
    "\n",
    "The impact of the Earth's dielectric permitivity on EM systems is only significant for succiently high operaing frequencies. As a result, dielectric permittivity is generally neglected when using most EM systems (TDEM, FDEM, DCR, IP, etc)"
   ],
   "cell_type": "markdown",
   "metadata": {}
  },
  {
   "source": [
    "### Laboratory measurement of dielectric permittivity\n",
    "\n",
    "Transmission Time Measurement \n",
    "\n",
    "The speed at which high-frequency EM waves move through a material depends on the materials dielectric permittivity. Assuming the materials is non-magnetic, this relationship is given by:\n",
    "$$\n",
    "v = \\frac{c}{\\sqrt{\\varepsilon_r}}\n",
    "$$\n",
    "where $\\varepsilon_r$ is the relative permittivity and $c = 2.998 \\times 10^8 m/s$ is the speed light constant. In free-space, $\\varepsilon_r = 1$ and EM waves travel at the speed of light. However, within a dielectric material, EM waves propagate more slowly according to the above relationship.\n",
    "\n",
    "When performing physical property measurements, a source sends EM waves towards a sample. A portion of these waves transmit through the sample and reach a sensor on the other side. For samples that have high dielectric permittivities, it will take much longer for the signal to arrive at the sensor. This is because the transmitted waves slow down as they propagates through the sample. An equation for the total travel time (\\Delta t) for transmitted EM waves as the go from the source to the receiver is given by:\n",
    "$$\n",
    "\\Delta t = \\frac{L - \\Delta x}{c} + \\frac{\\Delta x}{v}\n",
    "$$\n",
    "where $L$ is the distance from the source to the receiver, $\\Delta x$ is the length of the sample, $c$ is the speed of light and $v$ is the velocity of the waves as they propagate through the material.\n",
    "\n",
    "Uisng the signal measured by the receiver, we can determine the totaltravel time for the transmitted EM waves. By combining the previous two equations and solving for the relative permittivity.\n",
    "$$\n",
    "\\varepsilon_r = \\Bigg ( 1 + \\frac{c\\Delta t - L}{\\Delta x} \\Bigg )^2\n",
    "$$\n",
    "\n",
    "\n",
    "# ![title](gpr1.png)\n",
    "\n"
   ],
   "cell_type": "code",
   "metadata": {},
   "execution_count": null,
   "outputs": []
  },
  {
   "source": [
    "### Reflection Coefficient Measurements\n",
    "When EM waves meet an interface, some of their energy is reflected and some of their energy is transmitted. For high-frequency EM waves, the proportion of energy which is reflected depends on the dielectric properties of the materials comprising the interface. This relationship is generally characterized by a reflection coefficient.\n",
    "\n",
    "The reflection coefficient __R__ defines the ratio beteween the amplitude of the reflected wave and the amplitude of the incoming wave:\n",
    "$$\n",
    "R = \\frac{A_{ref}}{A_{inc}}\n",
    "$$\n",
    "In ths measurement, a source generates a EM waves which are reflected due to a difference in dielectric permittvity. The reflected waves are measured by a sensor. Assuming the incoming waves have a zero incidence angle relative to the interface, the reflection coefficient is given by:\n",
    "$$\n",
    "R = \\frac{1 - \\sqrt{\\varepsilon_r}}{1 + \\sqrt{\\varepsilon_r}}\n",
    "$$\n",
    "where $\\varepsilon_r$ is the relative permittvity of the sample. From the source, it is trivial to determine the amplitude of incident EM waves at the interface. Using the sensor, we may also determine the amplitude of reflected EM waves at the interface. If both amplitudes are known, the first equation may be used to determine the reflection coefficient. Once obtained, the second equation may be used to solve for the relative permittvity of the sample.\n",
    "\n",
    "# ![title](gpr2.png)"
   ],
   "cell_type": "markdown",
   "metadata": {}
  },
  {
   "source": [
    "### Units\n",
    "The units for the dielectric permittivity reflect the fact that it relates a $(\\vec E)$ to a flux $(\\vec D)$. On the other hand, the relative permittivity is unitless, as is the dielectric susceptibililty.\n",
    "\n",
    "# ![title](units.png)"
   ],
   "cell_type": "markdown",
   "metadata": {}
  },
  {
   "source": [
    "### Typical values for Rocks and Other Materials\n",
    "\n",
    "# ![title](values.png)\n",
    "\n",
    "* Water has a much higer dielectric permitivity than rock forming minerals.\n",
    "* Water saturated rocks have larger dieelctric permittivities than dry rocks.\n",
    "* saturated sedminents generally have larger dielectric permittivities than hard rocks.\n",
    "* The variation in dielectric permitivity for sediments is larger than t is for hard rocks.\n",
    "* The combinaion of conductive and dielectric properties for each material results in significant variations in penetration depth for radiowave signals."
   ],
   "cell_type": "markdown",
   "metadata": {}
  },
  {
   "source": [
    "## Factors that affect electrical permittivity\n",
    "1. Porosity and Water Saturation\n",
    "This is by far the most important factors in determining a rock's dielectric permittivity. Air has a relative permittvity of 1 whereas common rock forming minerals have much higher relative permittivities. This means that for dry samples, the rock's bulk dielectric permittivity decreases as the Porosity increases.\n",
    "\n",
    "When rock samples are saturated with water, their dielectric permittivities can increase drastically. This is because water has a relative permittivity of 80, which is much higher than the relative permittivities of rock forming minerals. As a result, the bulf density of a rock increases as pore water saturation increases.\n",
    "\n",
    "2. frequency\n",
    "For hard rocks and unsaturated sedimentary samples, the dielectric permittivity can be considered constant for all intents and purposes. At sufficiently low frequencies, the same can be said about water-saturated sedimentary rocks and soils (Kaatze, 1989; Meissner and Wentz, 2004). At high frequencies however ( > 1 GHz), the electric polarization within water-saturated samples depends on the frequency of the electric field. "
   ],
   "cell_type": "markdown",
   "metadata": {}
  },
  {
   "source": [
    "## Seven fundamental steps for Geophysical Surveys\n",
    "\n",
    "1. Setup: What is the problem \n",
    "\n",
    "This involve establishing the geoscience objectives. This could include:\n",
    "* Mapping geology\n",
    "* Locating buried objectives\n",
    "* Obtaining 3D images of the subsurface\n",
    "\n",
    "At this stage, assemble prior information that might be relevant.\n",
    "\n",
    "2. Properties: Understanding how the target/geologic material of relevance can be characterized by its physical Properties. \n",
    "\n",
    "The key is to find a physical property of the sought object/geology that is different from that of the surroundng material. This is a crucial component that links geophysics to the geoscience problem being investigated. Important physical properties are:\n",
    "* Density\n",
    "* Compressional wave and shear wave velocities\n",
    "* Electrical conductivity (or resistivity)\n",
    "* Electrical chargeability\n",
    "* Dielectric permittivity\n",
    "\n",
    "3. Surveys: Select a geophysical survey that is sensitive to the physical property of relevance to the problem.\n",
    "* Design an effective and efficient methodology for data collection. This will involve:\n",
    "\n",
    "    * Forward modelling and processing of simulated data.\n",
    "    * Addressing issues of noise and data quality\n",
    "\n",
    "4. Data: Conduct field surveys taking all necessary actions to acquire complete, high quality and cost effective data sets.\n",
    "\n",
    "5. Processing: This range from simple map makings to inversion of the data to obtain 3D images of the subsurface.\n",
    "\n",
    "6. Interpretation: Interpreting results in terms of the geologic or geotechnical objectives. There are two distinct components to interpretation.\n",
    "* First is estimating how physical properties are distributed.\n",
    "* Second is to gain some geological understanding based upon those physical property distributions.\n",
    "Non-uniqueness is a ubiquitous and persistent characteristic of most geophysical interpretations.\n",
    "\n",
    "7. Synthesis: This involve correlating the interpretations with prior and alternative information, and decide if the results are adequate for the particular problem. It means making sure geophysical result agree with everything else that is known about the problem.\n"
   ],
   "cell_type": "markdown",
   "metadata": {}
  },
  {
   "source": [
    "## Survey design\n",
    "Geophysical survey design will impact the coupling with the target, the detectability of the target, and the resolution. It is important to think about the transmitters, receiver and what the sought target is before doing a geophysical survey.\n",
    "* What am i looking for? How large and how deep?\n",
    "* What geology in the area?\n",
    "* Is there a particular direction to the geology?\n",
    "* What are the physical properties of my target and the other units?\n",
    "* Is there ample contrast between the physical properties?\n",
    "* Do i need a 2D or 3D survey?\n",
    "* How much can i spend on the survey? Time? Money?\n",
    "\n",
    "### Detectability\n",
    "In order for a target to be detectable, the secondary field (whether electric field, magnetic field or voltage potential) must be larger than the noise (geologic noise, instrument noise etc) and it must be relatively large enough compared to the primary field.\n",
    "\n",
    "For example if the noise in the primary field is anticiapted to be 5% and the instrument sensitivity is 5 mV, then the secondary field must be atleast above 5 mV to be detectable but also be more than 5% different compared to the primary field.\n",
    "\n",
    "This provides us with two metrics: relative difference and absolute difference\n",
    "\n",
    "Relative difference (RD) and absolute difference (AD) are determined as follows:\n",
    "$$\n",
    "RD = {\\frac{F^S}{F^P}}*100  \n",
    "$$\n",
    "$$\n",
    "AD = F^S\n",
    "$$\n",
    "\n",
    "where:\n",
    "* F^S = F^T - F^P is the secondary field\n",
    "* F^P is the primary field\n",
    "* F^T is the total field\n",
    "\n",
    "To test whether the target is adequately detectable given a certain survey layout, we use forward modelling to compute the primary field using a model that does not contain the target and the total field using a model that does contain the target.\n",
    "\n",
    "### Resolution\n",
    "While detectability is a key part in determining the usefulness of a given survey design, it does not guarantee that we can recover the target by inverting the total field data. By inverting for the sought-after target using synthetic modeling, we can determine if the survey has enough resolution to recover the target.\n"
   ],
   "cell_type": "markdown",
   "metadata": {}
  },
  {
   "cell_type": "code",
   "execution_count": null,
   "metadata": {},
   "outputs": [],
   "source": []
  }
 ]
}
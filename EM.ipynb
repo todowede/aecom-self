{
 "metadata": {
  "language_info": {
   "codemirror_mode": {
    "name": "ipython",
    "version": 3
   },
   "file_extension": ".py",
   "mimetype": "text/x-python",
   "name": "python",
   "nbconvert_exporter": "python",
   "pygments_lexer": "ipython3",
   "version": "3.8.5"
  },
  "orig_nbformat": 2,
  "kernelspec": {
   "name": "python385jvsc74a57bd031f2aee4e71d21fbe5cf8b01ff0e069b9275f58929596ceb00d14d90e3e16cd6",
   "display_name": "Python 3.8.5 64-bit"
  },
  "metadata": {
   "interpreter": {
    "hash": "31f2aee4e71d21fbe5cf8b01ff0e069b9275f58929596ceb00d14d90e3e16cd6"
   }
  }
 },
 "nbformat": 4,
 "nbformat_minor": 2,
 "cells": [
  {
   "source": [
    "## Electromagnetic Geophysics"
   ],
   "cell_type": "markdown",
   "metadata": {}
  },
  {
   "source": [
    "Finding what is beneath the subsurface, without direct sampling (in most cases) - that is the realm of Geophysics. Energy is propagated into the subsurface and the signals are recorded after interaction with the earth materials. \n",
    "\n",
    "Earth materials can be characterized in terms of their physical properties. For electromagnetics investigations, there are:\n",
    "\n",
    "* electrical conductivity\n",
    "* magnetic permeability \n",
    "* dielectric permittivity"
   ],
   "cell_type": "markdown",
   "metadata": {}
  },
  {
   "source": [
    "The success of a geophysical survey depends on how the physical properties of a sought target or geologic structure differ from the background host material. If difference exist, then a particular geophysical survey that is sensitive to that physical property can be used. "
   ],
   "cell_type": "markdown",
   "metadata": {}
  },
  {
   "source": [
    "Source\n",
    "\n",
    "A source provides an intial energy that will excite the earth. Man-made sources involve electrical currents that are either injected into the erathot flow in a wire-loop. The input signals to the earth can be harmonic or transient. Correspondingly, the equations that propagates the energy through the earth are FDEM (Frequency Domain Elctromagnetic) or TDEM (Time Domain Electromagnetic). The way this energy propagates depends upon how the physical properties vary inside the earth."
   ],
   "cell_type": "markdown",
   "metadata": {}
  },
  {
   "source": [
    "Data \n",
    "\n",
    "The electromagnetic fields at the earth's surface are recorded by \"electromagneticsensors\" or \"receivers\", which can be in the air, on the surface or underground. The data which are components of the magnetic or electric fields contain information about the physical properties through which they travelled.\n",
    "\n",
    "Subsequent processeing and interpretation of the data is required to extract meaningful information. This process is concpetuallized as:\n",
    "* Forward Problems - predicting the electromagnetic response (data) from the survey when the physical properties (model) is known.\n",
    "* Inverse Problems - Generating the physical property distribution (model) that explains the observations (data)."
   ],
   "cell_type": "markdown",
   "metadata": {}
  },
  {
   "source": [
    "### Physical properties\n",
    "\n",
    "The physical property quantifies how a rock responds to a particular physical input. In EM investigations, the relevant physical properties are:\n",
    "* electrical conductivity: $\\sigma$ (or its reciprocal, resistivity $\\rho$)\n",
    "* magnetic permeability: $\\mu$\n",
    "* dielectric permittivity: $\\varepsilon$\n",
    "\n",
    "Electromagnetic physical properties are defined using a set of constitutive relationships. Each constitutive relationships characterizes the resulting flux due to a causative forcing field. \n",
    "\n",
    "If the physical properties are non-dispersive, the relationship between the field and the corresponsing flux is independent of frequency. Thus the constitutive relationships are given by:\n",
    "\n",
    "* $\\mathbf{J}(\\omega)= \\sigma \\mathbf{E}(\\omega) (Ohm's Law)$\n",
    "* $\\mathbf{B}(\\omega)= \\mu \\mathbf{H}(\\omega)$\n",
    "* $\\mathbf{D}(\\omega)= \\varepsilon \\mathbf{E}(\\omega)$\n",
    "\n",
    "By taking the inverse Fourier transform, the corresponding time domain relationships are given by:\n",
    "\n",
    "* $\\mathbf{j}(t)= \\sigma \\mathbf{e}(t) (Ohm's Law)$\n",
    "* $\\mathbf{b}(t)= \\mu \\mathbf{h}(t)$\n",
    "* $\\mathbf{d}(t)= \\varepsilon \\mathbf{e}(t)$\n"
   ],
   "cell_type": "code",
   "metadata": {},
   "execution_count": null,
   "outputs": []
  },
  {
   "source": [
    "Dispersion\n",
    "\n",
    "Dispersion implies that a given physical property is frequency-dependent. All EM physical properties exhibit dispersive properties under various conditions. For dispersive physical properties, the constitutive relationships are given by:\n",
    "\n",
    "\n",
    "* $\\mathbf{J}(\\omega)= \\sigma (\\omega) \\mathbf{E}(\\omega) (Ohm's Law)$\n",
    "* $\\mathbf{B}(\\omega)= \\mu (\\omega) \\mathbf{H}(\\omega)$\n",
    "* $\\mathbf{D}(\\omega)= \\varepsilon (\\omega) \\mathbf{E}(\\omega)$\n",
    "\n",
    "Once again, the time domain equivalent for the constitutive relationships can be obtained by taking the inverse Fourier transform. If the physical properties are dispersive, the relationship between each field and its corresponding flux becomes a convolution:\n",
    "\n",
    "* $\\mathbf{j}(t)=\\sigma(t) \\ast \\mathbf{e}(t)$\n",
    "* $\\mathbf{b}(t)=\\mu(t) \\ast \\mathbf{h}(t)$\n",
    "* $\\mathbf{d}(t)=\\varepsilon(t) \\ast \\mathbf{e}(t)$\n"
   ],
   "cell_type": "markdown",
   "metadata": {}
  },
  {
   "source": [
    "Anisotropy\n",
    "\n",
    "Anisotropy means that the physical response of a rock to an applied field is not the same in all directions. In this case, each field and its corresponsing flux is related by a $3X3$ tensor:\n",
    "* $\\mathbf{J}= \\Sigma \\mathbf{E}$\n",
    "* $\\mathbf{B}= \\Gamma \\mathbf{H}$\n",
    "* $\\mathbf{D}= \\Upsilon \\mathbf{E}$\n",
    "\n",
    "where;\n",
    "$$\n",
    "\\Sigma = \\begin{bmatrix} \\sigma_{xx} & \\sigma_{xy} & \\sigma_{xz} \\\\ \\sigma_{yx} & \\sigma_{yy} & \\sigma_{yz} \\\\ \\sigma_{zx} & \\sigma_{zy} & \\sigma_{zz} \\end{bmatrix} , \\; \\;\n",
    "\\Gamma = \\begin{bmatrix} \\mu_{xx} & \\mu_{xy} & \\mu_{xz} \\\\ \\mu_{yx} & \\mu_{yy} & \\mu_{yz} \\\\ \\mu_{zx} & \\mu_{zy} & \\mu_{zz} \\end{bmatrix} \\; \\; \\textrm{and} \\; \\;\n",
    "\\Upsilon = \\begin{bmatrix} \\varepsilon_{xx} & \\varepsilon_{xy} & \\varepsilon_{xz} \\\\ \\varepsilon_{yx} & \\varepsilon_{yy} & \\varepsilon_{yz} \\\\ \\varepsilon_{zx} & \\varepsilon_{zy} & \\varepsilon_{zz} \\end{bmatrix} , \\; \\;\n",
    "$$\n"
   ],
   "cell_type": "markdown",
   "metadata": {}
  },
  {
   "source": [
    "The constitutive relations along with `Maxwell's equations` form a complete set of equations for electromagnetics."
   ],
   "cell_type": "markdown",
   "metadata": {}
  },
  {
   "source": [
    "## Electrical Conductivity\n",
    "Electrical conductivity is a diagnostic physical property that quantifies how easily electrical charges move through a given material when subjected to an applied electric field. In mathematical development, it is common to use its reciprocal - electrical resistivity.\n",
    "\n",
    "### Constitutive Relationsip\n",
    "When an electric field is applied to a material, free charges within the material experience an electrical (Coulomb) force. This force causes the free charges to move through the material along the direction of the applied field (i.e. electrical current). \n",
    "\n",
    "The ease at which electrical charges move through a material under the influence of an electric field depends on the material's electrical conductivity. \n",
    "\n",
    "Electrical conductivity $\\sigma$ defines the ratio betweeen the current density $\\mathbf{J}$ within a material and the electric field $\\mathbf{E}$. This is known as Ohm's law and is given by:\n",
    "$$\n",
    "\\mathbf{J}(\\omega)= \\sigma \\mathbf{E}(\\omega)\n",
    "$$\n",
    "where the current density is defined as the electrical current $\\mathbf{I}$ per unit cross-sectional area A.\n",
    "$$\n",
    "\\mathbf{J} = \\lim_{A \\rightarrow 0} \\frac{\\mathbf{I}(A)}{A}\n",
    "$$\n",
    "\n",
    "### Electrical Resistivity\n",
    "The electrical properties of a material can be characterized using the electrical resisitivity $\\rho$, which is the reciprocal of the electrical conductivity.\n",
    "$$\n",
    "\\rho = \\frac{1}{\\sigma}\n",
    "$$\n",
    "Thus the constitutive relationship can be re-expressed as follows:\n",
    "$$\n",
    "\\mathbf{E} = \\rho \\mathbf{J}\n",
    "$$\n",
    "### Chargeability and Frequency-Dependence\n",
    "Under the influence of an electric field, free charges (such as ions) flow through materials along the direction of the applied field. For most practical case, the flow of electrical charges is in phase with the applied earth field. However when the iconic charges reach an impermeable barrier, they begin to accumulate. As a result, certain materials can act as capacitors for iconic charges; a phenomenon known as induced polarization. Iconic charge can accumulate because the pore path is blocked by metallic particles (electrode polarization) or because the pore throat is insufficiently large (membrane polarization)\n",
    "\n",
    "The degree of charge accumulation (capacitance) under the influence of an exterbal field is described as __chargeability__. \n",
    "\n",
    "### Importance to Geophysics\n",
    "Electrical Conductivity\n",
    "\n",
    "The majority of EM surveys exploit contrasts in electrical conductivity to image the subsurface. During __direct current resisitivity__ surveys, electrical current is forced through the earth. The path taken by the current as well as the measured data, depend on the subsurafce conductivity distribution.\n",
    "\n",
    "Many EM systems are based on the principles of EM induction. These includes FDEM, TDEM, CSEM, unexploded ordinance UXO surveys. A transmittal sends time-varying EM signals into the ground which subsequently induce electric currents. The strength of the induced currents and the secondary fields they produce are dependent on the distribution of subsurface conductivities.\n",
    "\n",
    "Data collected during magnetotelluric (MT) and Z-axis Tipper EM (ZTEM) surveys also depend on the conductivity of the earth. These methods rely on natural sources to generate EM responses. For MT, the relationships between measured components of the electric and magnetic fields provide insight regarding the Earth's electromagnetic impendance, and indirectly its electrical conductivity."
   ],
   "cell_type": "markdown",
   "metadata": {}
  },
  {
   "source": [
    "## Laboratory Measurements\n",
    "### Two-Electrode Laboratory setup\n",
    "\n",
    "Laboratory measurement of electrical resitivity is commonly done using a teo-electrode setup. A rock core of known dimensions is placed between two copper or graphite electrodes. Current is then forced through the rock, which acts as the resistive element for an electrical circuit. By measuring the voltage drop across the rock (V), Ohm's law for electrical circuits can be used to determine the corresponding resistance. In this case:\n",
    "$$\n",
    "\\mathbf{V}= \\mathbf{IR}\n",
    "$$\n",
    "Where $I$ is the Current forced through the rock and $R$ us the resistance due to the rock sample. Gven that we know the dimensions of the rock sample, __Pouillet's__ can be used to obtain the rock electrical resistivity. Pouillet's law is given by:\n",
    "$$\n",
    "\\rho = \\frac{RA}{l}\n",
    "$$\n",
    "where l is the length of the sample and A is its cross-sectional area. The electrical conductivity is obtained simply by taking the reciprocal of the resisitivity, i.e.\n",
    "$$\n",
    "\\sigma = \\frac{1}{\\rho}\n",
    "$$\n",
    "Electrical resitivity measurement cab be performed in both the frequency and the time domain. For frequncy domain measurement, a sinuisonal current is driven through the rock sample. \n",
    "\n",
    "In the time domain measurement, a boxcar waveform is used.\n"
   ],
   "cell_type": "markdown",
   "metadata": {}
  },
  {
   "source": [
    "### DC Conductivity / Resistivity\n",
    "DC (or zero frequency) resistivity is obtained by forcing direct current (I) through the rock and measuring the voltage drop (V). The resistance (R) due to the rock is obtained by using Ohm's law.  \n",
    "$$\n",
    "\\mathbf{V}= \\mathbf{IR}\n",
    "$$\n",
    "The electrical resistivity is then obtained by using:\n",
    "$$\n",
    "\\rho = \\frac{RA}{l}\n",
    "$$\n",
    "The DC resisitivity is a single, real-valued quantity and has units Ohm meters."
   ],
   "cell_type": "markdown",
   "metadata": {}
  }
 ]
}
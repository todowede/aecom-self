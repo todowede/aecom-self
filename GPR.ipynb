{
 "metadata": {
  "language_info": {
   "codemirror_mode": {
    "name": "ipython",
    "version": 3
   },
   "file_extension": ".py",
   "mimetype": "text/x-python",
   "name": "python",
   "nbconvert_exporter": "python",
   "pygments_lexer": "ipython3",
   "version": 3
  },
  "orig_nbformat": 2
 },
 "nbformat": 4,
 "nbformat_minor": 2,
 "cells": [
  {
   "source": [
    "# Ground Penetrating Radar"
   ],
   "cell_type": "markdown",
   "metadata": {}
  },
  {
   "source": [
    "GPR uses electromagnetic method for near surface investigations - typically 10s of mmeters. It exploits contrasts in electromagnetic properties __(dielectric permittivity, electrical conductivity and magnetic permeability)__ in order to define the physical boundaries of sahdow structures.\n",
    "\n",
    "GPR is ideal for near-suarface applications because it provides higher resolution images than methods such as FDEM, TDEM, etc. GPR cab be successfully used for:\n",
    "* Investigate concrete structures and roads.\n",
    "* Map layered structures of peat-bogs, sedimentary sequences and glacial environments.\n",
    "* Obtain the depth to groundwater or permafrost.\n",
    "* Locate buried infrastructure such as irrigation pipes, tunnels and electrical wires.\n",
    "* Find unexploded ordinance.\n",
    "\n",
    "# ![title](gpr3.png)\n",
    "During GPS survey, a source antenna (Tx) is used to send a pulse of radiowaves (10 Mhz to 2.6 GHz) into the ground. As the radiowaves propagates through the Earth, they are distorted as a result of the Earth's electromagnetic properties. At the boundaries where the subsurface electromagnetic properties change abruptly, radiowave signals undergo transmission, reflection and/or refraction.\n",
    "\n",
    "Sensors (Rx) measure the amplitudes and travel times of radiowaves signals that have been distorted by the Earth. Data from each trace (Tx - Rx pair) are amalgamated and represented using a radargram. The horizontal axis (distance) is used to represnet the location of the receiver relative to the source for a particular sounding.\n",
    "\n",
    "# ![title](gpr4.png)\n",
    "\n",
    "The vertical axis shows the travel-time of measured signal. By assuming a-priori knowledge of the radiowave velocity, the vertical axis can be represented in depth. The gray-scale denotes the amplitude of the returning signal at eact time and location."
   ],
   "cell_type": "markdown",
   "metadata": {}
  },
  {
   "cell_type": "code",
   "execution_count": null,
   "metadata": {},
   "outputs": [],
   "source": [
    "## Physcis\n"
   ]
  }
 ]
}
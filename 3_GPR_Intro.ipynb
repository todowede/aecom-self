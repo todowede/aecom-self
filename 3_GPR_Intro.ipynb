{
 "metadata": {
  "language_info": {
   "codemirror_mode": {
    "name": "ipython",
    "version": 3
   },
   "file_extension": ".py",
   "mimetype": "text/x-python",
   "name": "python",
   "nbconvert_exporter": "python",
   "pygments_lexer": "ipython3",
   "version": "3.8.5"
  },
  "orig_nbformat": 2,
  "kernelspec": {
   "name": "python385jvsc74a57bd031f2aee4e71d21fbe5cf8b01ff0e069b9275f58929596ceb00d14d90e3e16cd6",
   "display_name": "Python 3.8.5 64-bit"
  },
  "metadata": {
   "interpreter": {
    "hash": "31f2aee4e71d21fbe5cf8b01ff0e069b9275f58929596ceb00d14d90e3e16cd6"
   }
  }
 },
 "nbformat": 4,
 "nbformat_minor": 2,
 "cells": [
  {
   "source": [
    "# Ground Penetrating Radar"
   ],
   "cell_type": "markdown",
   "metadata": {}
  },
  {
   "source": [
    "GPR uses electromagnetic method for near surface investigations - typically 10s of mmeters. It exploits contrasts in electromagnetic properties __(dielectric permittivity, electrical conductivity and magnetic permeability)__ in order to define the physical boundaries of sahdow structures.\n",
    "\n",
    "GPR is ideal for near-suarface applications because it provides higher resolution images than methods such as FDEM, TDEM, etc. GPR cab be successfully used for:\n",
    "* Investigate concrete structures and roads.\n",
    "* Map layered structures of peat-bogs, sedimentary sequences and glacial environments.\n",
    "* Obtain the depth to groundwater or permafrost.\n",
    "* Locate buried infrastructure such as irrigation pipes, tunnels and electrical wires.\n",
    "* Find unexploded ordinance.\n",
    "\n",
    "# ![title](gpr3.png)\n",
    "During GPS survey, a source antenna (Tx) is used to send a pulse of radiowaves (10 Mhz to 2.6 GHz) into the ground. As the radiowaves propagates through the Earth, they are distorted as a result of the Earth's electromagnetic properties. At the boundaries where the subsurface electromagnetic properties change abruptly, radiowave signals undergo transmission, reflection and/or refraction.\n",
    "\n",
    "Sensors (Rx) measure the amplitudes and travel times of radiowaves signals that have been distorted by the Earth. Data from each trace (Tx - Rx pair) are amalgamated and represented using a radargram. The horizontal axis (distance) is used to represnet the location of the receiver relative to the source for a particular sounding.\n",
    "\n",
    "# ![title](gpr4.png)\n",
    "\n",
    "The vertical axis shows the travel-time of measured signal. By assuming a-priori knowledge of the radiowave velocity, the vertical axis can be represented in depth. The gray-scale denotes the amplitude of the returning signal at eact time and location."
   ],
   "cell_type": "markdown",
   "metadata": {}
  },
  {
   "source": [
    "## Physcis\n",
    "As the radiowaves propagates through the Earth, they are distorted as a result of the earth's electromagnetic properties. At boundaries where the subsurafce EM properties change abruptly, the radiowave signal undergo transmission, reflection and/or refraction.\n",
    "\n",
    "The sensors(Rx) measure the amplitudes and travel time of radiowave signals that have been distorted by the Earth. \n",
    "\n",
    "### Properties of radiowave Signals\n",
    "* __Propagation Velocity__\n",
    "The radiowave propagates through different materials at different speeds. The propagation velocity of the earth directly affects the arrival times of GPR signals.\n",
    "\n",
    "The velocity of the radiowave depends on the physical properties of the medium - in general, the velocity of radiowaves through a homogenous material is given by:\n",
    "\n",
    "$$\n",
    "V = \\sqrt{\\frac{2}{\\mu \\varepsilon}} \\Bigg [ \\Bigg ( 1 + \\bigg ( \\frac{\\sigma}{\\omega \\varepsilon} \\bigg )^2 \\, \\Bigg )^{1/2} \\; + 1 \\; \\Bigg ]^{-1/2}\n",
    "$$\n",
    "\n",
    "this equation shows that radiowave velocity is largest in free-space (i.e. when $\\sigma = 0, \\mu = \\mu_0$ and $\\varepsilon = \\varepsilon_0$ )\n",
    "\n",
    "Therefore electromagnetic waves in matter tarvel slower that the speed of light ($ c = 3.00 \\times 10^8 m/s$)\n",
    "\n",
    "GPR signals are characterized as being high-frequency. It is thus safe to assume that $\\sigma \\ll \\omega \\varepsilon$; especially if the earthh is resistive. this is known as the *__wave regime approximation__*.\n",
    "\n",
    "Using the approximation, the velocity of radiowaves can be simplified to:\n",
    "\n",
    "$$\n",
    "V = \\frac{1}{\\sqrt{\\mu \\varepsilon}} = \\frac{c}{\\sqrt{\\mu_r \\varepsilon_r}}\n",
    "$$\n",
    "\n",
    "where $\\mu_r$ is the relative permeability and $\\varepsilon_r$ is the relative permittivity. If the propagation material is non-magnetic, then $\\mu_r = 1$ and the radiowave velocity simplifies to:\n",
    "\n",
    "$$\n",
    "V = \\frac{c}{\\sqrt{\\varepsilon_r}}\n",
    "$$"
   ],
   "cell_type": "code",
   "metadata": {},
   "execution_count": null,
   "outputs": []
  },
  {
   "source": [
    "* __Skin Depth__\n",
    "Skin depth ($\\delta$) defines the propagation disatnce at which the amplitude of an electromagnetic wave is reduced by a factor of $\\frac{1}{e}$; i.e. reduced to 37% of its original amplitude. \n",
    "\n",
    "Skin depth is the reciprocal of the attenuation constant. Skin depth determines the penetration depth for GPR system. The skin depth is given by:\n",
    "$$\n",
    "\\delta = \\sqrt{\\frac{2}{\\omega^2 \\mu \\varepsilon}} \\Bigg [ \\Bigg ( 1 + \\bigg ( \\frac{\\sigma}{\\omega \\varepsilon} \\bigg )^2 \\Bigg )^{-1/2} - \\; 1 \\; \\Bigg ]^{1/2}\n",
    "$$\n",
    "If we assume the Earth is non-permeable (\\mu = \\mu_0), then two convenient approximations exist for the skin depth:\n",
    "$$\n",
    "\\delta \\approx \\begin{cases} 503 \\sqrt{\\dfrac{1}{\\sigma f}} \\; \\; &\\textrm{for} \\; \\; \\omega \\varepsilon \\ll \\sigma \\\\ 0.0053 \\dfrac{\\sqrt{\\varepsilon_r}}{\\sigma}  \\; \\; &\\textrm{for} \\; \\; \\sigma \\ll \\omega \\varepsilon \\end{cases}\n",
    "$$\n",
    "\n",
    "where $f$ is the transmitter's operating freqeuncy in $hz$.ResourceWarning\n",
    "\n"
   ],
   "cell_type": "markdown",
   "metadata": {}
  },
  {
   "cell_type": "code",
   "execution_count": null,
   "metadata": {},
   "outputs": [],
   "source": [
    "\n"
   ]
  }
 ]
}